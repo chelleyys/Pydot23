{
 "cells": [
  {
   "cell_type": "markdown",
   "metadata": {
    "colab_type": "text",
    "id": "CCtJz8xPKuc6"
   },
   "source": [
    "# Module 0\n",
    "- Foundational Python refresher..."
   ]
  },
  {
   "cell_type": "markdown",
   "metadata": {
    "colab_type": "text",
    "id": "9xO2aKagLnyW"
   },
   "source": [
    "#### For each of the following expressions, indicate the type of the expression. \n",
    "*While you could simply type these expressions into your shell, we encourage you to answer them directly since this will help reinforce your understanding of basic Python expressions.*"
   ]
  },
  {
   "cell_type": "code",
   "execution_count": 0,
   "metadata": {
    "colab": {},
    "colab_type": "code",
    "id": "8013CH4QMoBv"
   },
   "outputs": [],
   "source": [
    "# 3.14\n",
    "# Select an option NoneType int float bool\n",
    "\n",
    "float"
   ]
  },
  {
   "cell_type": "code",
   "execution_count": 0,
   "metadata": {
    "colab": {},
    "colab_type": "code",
    "id": "AHBBr4j5MoE6"
   },
   "outputs": [],
   "source": [
    "# -34\n",
    "# Select an option NoneType int float bool\n",
    "\n",
    "int"
   ]
  },
  {
   "cell_type": "code",
   "execution_count": 0,
   "metadata": {
    "colab": {},
    "colab_type": "code",
    "id": "GfDZkrREMoMd"
   },
   "outputs": [],
   "source": [
    "# True\n",
    "# Select an option NoneType int float bool\n",
    "\n",
    "bool\n"
   ]
  },
  {
   "cell_type": "code",
   "execution_count": 1,
   "metadata": {
    "colab": {},
    "colab_type": "code",
    "id": "Lnd1zHiiMoPS"
   },
   "outputs": [],
   "source": [
    "# None\n",
    "# Select an option NoneType int float bool\n",
    "\n",
    "NoneType"
   ]
  },
  {
   "cell_type": "code",
   "execution_count": 0,
   "metadata": {
    "colab": {},
    "colab_type": "code",
    "id": "TtP1MLblM0CD"
   },
   "outputs": [],
   "source": [
    "# 3.0\n",
    "# Select an option NoneType int float bool\n",
    "\n",
    "float"
   ]
  },
  {
   "cell_type": "markdown",
   "metadata": {
    "colab_type": "text",
    "id": "QMQEATBnM5Ic"
   },
   "source": [
    "#### Conditional Statement Revisited\n",
    "\n"
   ]
  },
  {
   "cell_type": "markdown",
   "metadata": {
    "colab_type": "text",
    "id": "nKSJJXZyNJ3q"
   },
   "source": [
    "- 3 > 4\n",
    "\n",
    "- 4.0 > 3.999\n",
    "\n",
    "- 4 > 4\n",
    "\n",
    "- 4 > + 4\n",
    "\n",
    "- 2 + 2 == 4\n",
    "\n",
    "- True and False\n",
    "\n",
    "- False or False\n",
    "\n",
    "- not False\n",
    "\n",
    "- (3.0 - 1.0) != (5.0 - 3.0)\n",
    "\n",
    "- 3 > 4 or (2 < 3 and 9 > 10)\n",
    "\n",
    "- 4 > 5 or 3 < 4 and 9 > 8\n",
    "\n",
    "- not(4 > 3 and 100 > 6)"
   ]
  },
  {
   "cell_type": "code",
   "execution_count": 0,
   "metadata": {
    "colab": {},
    "colab_type": "code",
    "id": "82sribmIM6oT"
   },
   "outputs": [],
   "source": [
    "# Write the answers below"
   ]
  },
  {
   "cell_type": "code",
   "execution_count": 0,
   "metadata": {
    "colab": {},
    "colab_type": "code",
    "id": "cyLlp5rrNn_n"
   },
   "outputs": [],
   "source": [
    "3 > 4 \n",
    "False"
   ]
  },
  {
   "cell_type": "code",
   "execution_count": null,
   "metadata": {},
   "outputs": [],
   "source": [
    "4.0 > 3.999\n",
    "True"
   ]
  },
  {
   "cell_type": "code",
   "execution_count": 3,
   "metadata": {},
   "outputs": [
    {
     "data": {
      "text/plain": [
       "False"
      ]
     },
     "execution_count": 3,
     "metadata": {},
     "output_type": "execute_result"
    }
   ],
   "source": [
    "4 > 4\n",
    "False"
   ]
  },
  {
   "cell_type": "code",
   "execution_count": 4,
   "metadata": {},
   "outputs": [
    {
     "data": {
      "text/plain": [
       "False"
      ]
     },
     "execution_count": 4,
     "metadata": {},
     "output_type": "execute_result"
    }
   ],
   "source": [
    "4 > + 4\n",
    "False"
   ]
  },
  {
   "cell_type": "code",
   "execution_count": null,
   "metadata": {},
   "outputs": [],
   "source": [
    "2 + 2 == 4\n",
    "True"
   ]
  },
  {
   "cell_type": "code",
   "execution_count": 5,
   "metadata": {},
   "outputs": [
    {
     "data": {
      "text/plain": [
       "False"
      ]
     },
     "execution_count": 5,
     "metadata": {},
     "output_type": "execute_result"
    }
   ],
   "source": [
    "False"
   ]
  },
  {
   "cell_type": "code",
   "execution_count": 6,
   "metadata": {},
   "outputs": [
    {
     "data": {
      "text/plain": [
       "False"
      ]
     },
     "execution_count": 6,
     "metadata": {},
     "output_type": "execute_result"
    }
   ],
   "source": [
    "False or False\n",
    "False"
   ]
  },
  {
   "cell_type": "code",
   "execution_count": null,
   "metadata": {},
   "outputs": [],
   "source": [
    "not False\n",
    "True"
   ]
  },
  {
   "cell_type": "code",
   "execution_count": null,
   "metadata": {},
   "outputs": [],
   "source": [
    "(3.0 - 1.0) != (5.0 - 3.0)\n",
    "False"
   ]
  },
  {
   "cell_type": "code",
   "execution_count": 7,
   "metadata": {},
   "outputs": [
    {
     "data": {
      "text/plain": [
       "False"
      ]
     },
     "execution_count": 7,
     "metadata": {},
     "output_type": "execute_result"
    }
   ],
   "source": [
    "3 > 4 or (2 < 3 and 9 > 10)\n",
    "#False or (True and False)\n",
    "#False"
   ]
  },
  {
   "cell_type": "code",
   "execution_count": 8,
   "metadata": {},
   "outputs": [
    {
     "data": {
      "text/plain": [
       "True"
      ]
     },
     "execution_count": 8,
     "metadata": {},
     "output_type": "execute_result"
    }
   ],
   "source": [
    "4 > 5 or 3 < 4 and 9 > 8\n",
    "#True or True and True\n",
    "#True"
   ]
  },
  {
   "cell_type": "code",
   "execution_count": null,
   "metadata": {},
   "outputs": [],
   "source": [
    "not(4 > 3 and 100 > 6)\n",
    "not(True and True)\n",
    "False"
   ]
  },
  {
   "cell_type": "markdown",
   "metadata": {
    "colab_type": "text",
    "id": "pF6omyokNoKh"
   },
   "source": [
    "#### ASSIGNMENT VS Conditionals\n"
   ]
  },
  {
   "cell_type": "markdown",
   "metadata": {
    "colab_type": "text",
    "id": "u-93PM6uNxox"
   },
   "source": [
    "Ouput ??\n",
    "```\n",
    "a = 5 #assignment\n",
    "a == 5.0 #conditionals\n",
    "a\n",
    "```"
   ]
  },
  {
   "cell_type": "code",
   "execution_count": 0,
   "metadata": {
    "colab": {},
    "colab_type": "code",
    "id": "ye81YlBHOBPS"
   },
   "outputs": [],
   "source": [
    "5"
   ]
  },
  {
   "cell_type": "markdown",
   "metadata": {
    "colab_type": "text",
    "id": "_DlGKrKEN8dr"
   },
   "source": [
    "Ouput ??\n",
    "```\n",
    "b = 10\n",
    "c = b > 9\n",
    "c\n",
    "```"
   ]
  },
  {
   "cell_type": "code",
   "execution_count": 0,
   "metadata": {
    "colab": {},
    "colab_type": "code",
    "id": "tIS_RNvWNrKH"
   },
   "outputs": [],
   "source": [
    "True"
   ]
  },
  {
   "cell_type": "markdown",
   "metadata": {
    "colab_type": "text",
    "id": "hnAjXbsmNoQR"
   },
   "source": [
    "#### Advanced String manipulations Revisited"
   ]
  },
  {
   "cell_type": "markdown",
   "metadata": {
    "colab_type": "text",
    "id": "M7aVETqlOLay"
   },
   "source": [
    "```\n",
    "- \"a\" + \"bc\"\n",
    "\n",
    "- 3 * \"bc\"\n",
    "\n",
    "- \"3\" * \"bc\"\n",
    "\n",
    "- \"Abcd\"[2]\n",
    "\n",
    "- \"Abcd\"[0:2]\n",
    "\n",
    "- \"Abcd\"[ :2 ]\n",
    "\n",
    "- \"Abcd\"[2:]\n",
    "```"
   ]
  },
  {
   "cell_type": "code",
   "execution_count": 0,
   "metadata": {
    "colab": {},
    "colab_type": "code",
    "id": "0SvKLOeWOVuR"
   },
   "outputs": [],
   "source": [
    "\"abc\"\n",
    "\"bcbcbc\"\n",
    "Error\n",
    "\"Ab\"\n",
    "\"Ab\"\n",
    "\"Ab\"\n",
    "\"cd\""
   ]
  },
  {
   "cell_type": "markdown",
   "metadata": {
    "colab_type": "text",
    "id": "zIl9C0jbOL1l"
   },
   "source": [
    "#### More on strings & slicing..\n",
    "\n",
    "```\n",
    "str1 = 'hello'\n",
    "str2 = ','\n",
    "str3 = 'world'\n",
    "```"
   ]
  },
  {
   "cell_type": "markdown",
   "metadata": {
    "colab_type": "text",
    "id": "S1yJvqWMPGEQ"
   },
   "source": [
    "Part 1 - Answer the following\n",
    "\n",
    "```\n",
    "- str1[0]\n",
    "\n",
    "- Str1[1]\n",
    "\n",
    "- str1[-1]\n",
    "\n",
    "- len(str1)\n",
    "\n",
    "- str1[ len(str1)-1 ]\n",
    "\n",
    "- str1[-1 : len(str1)-1 ]\n",
    "\n",
    "- str1 + str2 + str3\n",
    "\n",
    "- str1 + str2 + ' ' + str3\n",
    "\n",
    "- str3 * 3\n",
    "\n",
    "- 'hello' == str1\n",
    "\n",
    "- 'HELLO' == str1\n",
    "\n",
    "- 'a' in str3\n",
    "```"
   ]
  },
  {
   "cell_type": "code",
   "execution_count": 0,
   "metadata": {
    "colab": {},
    "colab_type": "code",
    "id": "wfRykJN7Qook"
   },
   "outputs": [],
   "source": [
    "'h'\n",
    "error\n",
    "'o'\n",
    "5\n",
    "'o'\n",
    "''\n",
    "'hello,world'\n",
    "'hello, world'\n",
    "'worldworldworld'\n",
    "True\n",
    "False\n",
    "False"
   ]
  },
  {
   "cell_type": "markdown",
   "metadata": {
    "colab_type": "text",
    "id": "etoxGBJFPODB"
   },
   "source": [
    "Part 2 - Answer the following\n",
    "\n",
    "```\n",
    "- str4 = 'helloworld'\n",
    "\n",
    "- 'low' in str4\n",
    "\n",
    "- str3[1:3]\n",
    "\n",
    "- str3[:3]\n",
    "\n",
    "- [str3:-1]\n",
    "\n",
    "- str1[1:]\n",
    "\n",
    "- str4[1:9]\n",
    "\n",
    "- str4[9:1:2] \n",
    "\n",
    "- Str4[::-1]\n",
    "```"
   ]
  },
  {
   "cell_type": "code",
   "execution_count": 19,
   "metadata": {
    "colab": {},
    "colab_type": "code",
    "id": "fpyJaBNHQoHL"
   },
   "outputs": [],
   "source": [
    "str4 = 'helloworld'\n",
    "True\n",
    "'or'\n",
    "'wor'\n",
    "error\n",
    "'ello'\n",
    "'elloworl'\n",
    "''\n",
    "''\n",
    "'dlrowolleh'"
   ]
  },
  {
   "cell_type": "code",
   "execution_count": 3,
   "metadata": {},
   "outputs": [
    {
     "ename": "SyntaxError",
     "evalue": "invalid syntax (<ipython-input-3-0ddf3976cd1b>, line 1)",
     "output_type": "error",
     "traceback": [
      "\u001b[0;36m  File \u001b[0;32m\"<ipython-input-3-0ddf3976cd1b>\"\u001b[0;36m, line \u001b[0;32m1\u001b[0m\n\u001b[0;31m    [str3:-1]\u001b[0m\n\u001b[0m         ^\u001b[0m\n\u001b[0;31mSyntaxError\u001b[0m\u001b[0;31m:\u001b[0m invalid syntax\n"
     ]
    }
   ],
   "source": [
    "[str3:-1]"
   ]
  },
  {
   "cell_type": "markdown",
   "metadata": {
    "colab_type": "text",
    "id": "sXo4bq1GPu0s"
   },
   "source": [
    "#### Conditionals\n",
    "\n",
    "Ouput ??\n",
    "\n",
    "```\n",
    "if 6 > 7:\n",
    "   print(\"Yep\")\n",
    "```\n"
   ]
  },
  {
   "cell_type": "code",
   "execution_count": 0,
   "metadata": {
    "colab": {},
    "colab_type": "code",
    "id": "Ozp7-tDWP23e"
   },
   "outputs": [],
   "source": [
    "\"\""
   ]
  },
  {
   "cell_type": "code",
   "execution_count": null,
   "metadata": {},
   "outputs": [],
   "source": []
  },
  {
   "cell_type": "markdown",
   "metadata": {
    "colab_type": "text",
    "id": "IV48xrPLP2Qe"
   },
   "source": [
    "Ouput ??\n",
    "```\n",
    "if 6 > 7:\n",
    "   print(\"Yep\")\n",
    "else:\n",
    "   print(\"Nope\")\n",
    "```"
   ]
  },
  {
   "cell_type": "code",
   "execution_count": 0,
   "metadata": {
    "colab": {},
    "colab_type": "code",
    "id": "sutpFz6UQBPG"
   },
   "outputs": [],
   "source": [
    "\"Nope\""
   ]
  },
  {
   "cell_type": "markdown",
   "metadata": {
    "colab_type": "text",
    "id": "g8Q0gpYBP61n"
   },
   "source": [
    "Ouput ??\n",
    "```\n",
    "var = 'Panda'\n",
    "if var == \"panda\":\n",
    "   print(\"Cute!\")\n",
    "elif var == \"Panda\":\n",
    "   print(\"Regal!\")\n",
    "else:\n",
    "   print(\"Ugly...\")\n",
    "```"
   ]
  },
  {
   "cell_type": "code",
   "execution_count": 0,
   "metadata": {
    "colab": {},
    "colab_type": "code",
    "id": "mFREAMj5QBlH"
   },
   "outputs": [],
   "source": [
    "\"Regal!\""
   ]
  },
  {
   "cell_type": "markdown",
   "metadata": {
    "colab_type": "text",
    "id": "ASBWTfO-P_Td"
   },
   "source": [
    "Ouput ??\n",
    "```\n",
    "temp = 120\n",
    "if temp > 85:\n",
    "   print(\"Hot\")\n",
    "elif temp > 100:\n",
    "   print(\"REALLY HOT!\")\n",
    "elif temp > 60:\n",
    "   print(\"Comfortable\") \n",
    "else:\n",
    "   print(\"Cold\")\n",
    "```"
   ]
  },
  {
   "cell_type": "code",
   "execution_count": 0,
   "metadata": {
    "colab": {},
    "colab_type": "code",
    "id": "6Ak2W5sOX9uH"
   },
   "outputs": [],
   "source": [
    "\"Hot\""
   ]
  },
  {
   "cell_type": "code",
   "execution_count": 0,
   "metadata": {
    "colab": {},
    "colab_type": "code",
    "id": "QrpbrDtyX-R8"
   },
   "outputs": [],
   "source": []
  },
  {
   "cell_type": "markdown",
   "metadata": {
    "colab_type": "text",
    "id": "q-xee43DQIIx"
   },
   "source": [
    "Output ??\n",
    "```\n",
    "temp = 50\n",
    "if temp > 85:\n",
    "   print(\"Hot\")\n",
    "elif temp > 100:\n",
    "   print(\"REALLY HOT!\")\n",
    "elif temp > 60:\n",
    "   print(\"Comfortable\")\n",
    "else:\n",
    "   print(\"Cold\")\n",
    "\n",
    "```"
   ]
  },
  {
   "cell_type": "code",
   "execution_count": 0,
   "metadata": {
    "colab": {},
    "colab_type": "code",
    "id": "VTTnF_mdQCBw"
   },
   "outputs": [],
   "source": [
    "\"Cold\""
   ]
  },
  {
   "cell_type": "markdown",
   "metadata": {
    "colab_type": "text",
    "id": "jyGs6dF9RKsy"
   },
   "source": [
    "#### TELL ME THE OUTPUT OF THE FOLLOWING PROGRAM"
   ]
  },
  {
   "cell_type": "markdown",
   "metadata": {
    "colab_type": "text",
    "id": "NpMYBfrkRPoD"
   },
   "source": [
    "Output ??\n",
    "```\n",
    "num = 5\n",
    "if num > 2:\n",
    "    print(num)\n",
    "    num -= 1\n",
    "print(num)\n",
    "\n",
    "```"
   ]
  },
  {
   "cell_type": "code",
   "execution_count": 0,
   "metadata": {
    "colab": {},
    "colab_type": "code",
    "id": "K68va5K-Rg0b"
   },
   "outputs": [],
   "source": [
    "5\n",
    "4\n",
    "3\n"
   ]
  },
  {
   "cell_type": "markdown",
   "metadata": {
    "colab_type": "text",
    "id": "Duhvr42VRWtz"
   },
   "source": [
    "Output ??\n",
    "```\n",
    "num = 0\n",
    "while num <= 5:\n",
    "    print(num)\n",
    "    num += 1\n",
    "\n",
    "print(\"Outside of loop\")\n",
    "print(num)\n",
    "\n",
    "```"
   ]
  },
  {
   "cell_type": "code",
   "execution_count": 0,
   "metadata": {
    "colab": {},
    "colab_type": "code",
    "id": "kLseGcLURhKP"
   },
   "outputs": [],
   "source": [
    "0\n",
    "1\n",
    "2\n",
    "3\n",
    "4\n",
    "5\n",
    "\n",
    "\"Outside of loop\"\n",
    "5"
   ]
  },
  {
   "cell_type": "markdown",
   "metadata": {
    "colab_type": "text",
    "id": "OqtUeku_RbGd"
   },
   "source": [
    "Output ??\n",
    "```\n",
    "numberOfLoops = 0\n",
    "numberOfApples = 2\n",
    "while numberOfLoops < 6:\n",
    "    numberOfApples *= 2\n",
    "    numberOfApples += numberOfLoops\n",
    "    numberOfLoops -= 1\n",
    "print(\"Number of apples: \" + str(numberOfApples))\n",
    "```"
   ]
  },
  {
   "cell_type": "code",
   "execution_count": null,
   "metadata": {
    "colab": {},
    "colab_type": "code",
    "id": "7_I63SPERhq1"
   },
   "outputs": [],
   "source": [
    "None"
   ]
  },
  {
   "cell_type": "markdown",
   "metadata": {
    "colab_type": "text",
    "id": "ZbpSRNPxRd9o"
   },
   "source": [
    "Output ??\n",
    "```\n",
    "num = 10\n",
    "while num > 3:\n",
    "   print(num)\n",
    "   num -= 1\n",
    "\n",
    "```"
   ]
  },
  {
   "cell_type": "code",
   "execution_count": 0,
   "metadata": {
    "colab": {},
    "colab_type": "code",
    "id": "VVH7P4xTROWO"
   },
   "outputs": [],
   "source": [
    "10\n",
    "9\n",
    "8\n",
    "7\n",
    "6\n",
    "5\n",
    "4\n"
   ]
  },
  {
   "cell_type": "markdown",
   "metadata": {
    "colab_type": "text",
    "id": "fmb2MwfARklM"
   },
   "source": [
    "Output ??\n",
    "```\n",
    "num = 10\n",
    "while True:\n",
    "    if num < 7:\n",
    "        print('Breaking out of loop')\n",
    "        break\n",
    "    print(num)\n",
    "    num -= 1\n",
    "print('Outside of loop')\n",
    "```"
   ]
  },
  {
   "cell_type": "code",
   "execution_count": 0,
   "metadata": {
    "colab": {},
    "colab_type": "code",
    "id": "7izo_zy6RlZA"
   },
   "outputs": [],
   "source": [
    "10\n",
    "9\n",
    "8\n",
    "7\n",
    "'Breaking out of the loop'\n",
    "'Outside of loop'"
   ]
  },
  {
   "cell_type": "markdown",
   "metadata": {
    "colab_type": "text",
    "id": "1BlB3DyeRo8S"
   },
   "source": [
    "Output ??\n",
    "```\n",
    "num = 100\n",
    "while not False:\n",
    "    if num < 0:\n",
    "        Break\n",
    "print('num is: ' + str(num))\n",
    "```"
   ]
  },
  {
   "cell_type": "code",
   "execution_count": 0,
   "metadata": {
    "colab": {},
    "colab_type": "code",
    "id": "DK-g0IsaRqtq"
   },
   "outputs": [],
   "source": [
    "''"
   ]
  },
  {
   "cell_type": "markdown",
   "metadata": {
    "colab_type": "text",
    "id": "4FVnUU04RspK"
   },
   "source": [
    "#### WHILE LOOPS\n"
   ]
  },
  {
   "cell_type": "markdown",
   "metadata": {
    "colab_type": "text",
    "id": "7GuoyireRxhf"
   },
   "source": [
    "```\n",
    "Using while loops to write calculate the sum of first N numbers\n",
    "Input = 10\n",
    "Output = 1+2+3+4+5+6+7+8+9+10 = 55\n",
    "```"
   ]
  },
  {
   "cell_type": "code",
   "execution_count": 9,
   "metadata": {
    "colab": {},
    "colab_type": "code",
    "id": "ZUZwQqxJSMWN"
   },
   "outputs": [
    {
     "name": "stdout",
     "output_type": "stream",
     "text": [
      "10\n",
      "55\n"
     ]
    }
   ],
   "source": [
    "total = 0\n",
    "i = int(input())\n",
    "while i != 0:\n",
    "    total = total + (i)\n",
    "    i -= 1\n",
    "\n",
    "print (total)\n",
    "    "
   ]
  },
  {
   "cell_type": "code",
   "execution_count": 4,
   "metadata": {},
   "outputs": [
    {
     "data": {
      "text/plain": [
       "10"
      ]
     },
     "execution_count": 4,
     "metadata": {},
     "output_type": "execute_result"
    }
   ],
   "source": [
    "def sum_of_n_numbers(n):\n",
    "    acc = 0\n",
    "    for i in range (1, n+1):\n",
    "        acc += 1\n",
    "    return acc\n",
    "\n",
    "sum_of_n_numbers(10)"
   ]
  },
  {
   "cell_type": "code",
   "execution_count": null,
   "metadata": {},
   "outputs": [],
   "source": [
    "while True:\n",
    "    print(\"do somthing...\")\n",
    "    check_price_of_bitcoin()\n",
    "    time.sleep(1hour)"
   ]
  },
  {
   "cell_type": "markdown",
   "metadata": {
    "colab_type": "text",
    "id": "mkjx4-EWR29U"
   },
   "source": [
    "1. Convert the following into code that uses a while loop.\n",
    "```\n",
    "print 2\n",
    "prints 4\n",
    "prints 6\n",
    "prints 8\n",
    "prints 10\n",
    "prints Goodbye!\n",
    "```"
   ]
  },
  {
   "cell_type": "code",
   "execution_count": 13,
   "metadata": {
    "colab": {},
    "colab_type": "code",
    "id": "eXHwjG7eSAfV"
   },
   "outputs": [
    {
     "name": "stdout",
     "output_type": "stream",
     "text": [
      "2\n",
      "4\n",
      "6\n",
      "8\n",
      "10\n",
      "Goodbye!\n"
     ]
    }
   ],
   "source": [
    "i = 2\n",
    "while i != 12:\n",
    "    print(i)\n",
    "    i += 2\n",
    "print('Goodbye!')"
   ]
  },
  {
   "cell_type": "markdown",
   "metadata": {
    "colab_type": "text",
    "id": "VE1XAJ9fSCr3"
   },
   "source": [
    "2. Convert the following into code that uses a while loop.\n",
    "```\n",
    "prints Hello!\n",
    "prints 10\n",
    "prints 8\n",
    "prints 6\n",
    "prints 4\n",
    "prints 2\n",
    "```"
   ]
  },
  {
   "cell_type": "code",
   "execution_count": 15,
   "metadata": {
    "colab": {},
    "colab_type": "code",
    "id": "_P3uLwkuRuKq"
   },
   "outputs": [
    {
     "name": "stdout",
     "output_type": "stream",
     "text": [
      "Hello\n",
      "10\n",
      "8\n",
      "6\n",
      "4\n",
      "2\n"
     ]
    }
   ],
   "source": [
    "print('Hello')\n",
    "i = 10\n",
    "while i != 0:\n",
    "    print (i)\n",
    "    i -= 2"
   ]
  },
  {
   "cell_type": "code",
   "execution_count": 6,
   "metadata": {},
   "outputs": [
    {
     "name": "stdout",
     "output_type": "stream",
     "text": [
      "10\n",
      "8\n",
      "6\n",
      "4\n",
      "2\n"
     ]
    }
   ],
   "source": [
    "#use range might be easier\n",
    "for i in range (10,0,-2):\n",
    "    print(i)"
   ]
  },
  {
   "cell_type": "markdown",
   "metadata": {
    "colab_type": "text",
    "id": "2tAnDuXqSJBS"
   },
   "source": [
    "#### USE For Loops to do the same .\n",
    "\n",
    "**Refer to previous exercise**\n"
   ]
  },
  {
   "cell_type": "code",
   "execution_count": 19,
   "metadata": {
    "colab": {},
    "colab_type": "code",
    "id": "yAYIrukESOdM"
   },
   "outputs": [
    {
     "name": "stdout",
     "output_type": "stream",
     "text": [
      "2\n",
      "4\n",
      "6\n",
      "8\n",
      "10\n"
     ]
    }
   ],
   "source": [
    "for i in range (2,12,2):\n",
    "    print (i)"
   ]
  },
  {
   "cell_type": "code",
   "execution_count": 21,
   "metadata": {},
   "outputs": [
    {
     "name": "stdout",
     "output_type": "stream",
     "text": [
      "10\n",
      "8\n",
      "6\n",
      "4\n",
      "2\n"
     ]
    }
   ],
   "source": [
    "for i in range(10,0,-2):\n",
    "    print(i)"
   ]
  },
  {
   "cell_type": "markdown",
   "metadata": {
    "colab_type": "text",
    "id": "XTV15vV0SQVS"
   },
   "source": [
    "#### Guess the output of for loops\n",
    "\n",
    "1. \n",
    "```python\n",
    "num = 10\n",
    "for num in range(5):\n",
    "    print(num)\n",
    "print(num)\n",
    "```\n",
    "--- \n",
    "\n",
    "2. \n",
    "```python\n",
    "divisor = 2\n",
    "for num in range(0, 10, 2):\n",
    "    print(num/divisor)\n",
    "```\n",
    "---\n",
    "\n",
    "3. \n",
    "```python\n",
    "for variable in range(20):\n",
    "    if variable % 4 == 0:\n",
    "        print(variable)\n",
    "    if variable % 16 == 0:\n",
    "        print('Foo!')\n",
    "```\n",
    "---\n",
    "\n",
    "4. \n",
    "```python\n",
    "for letter in 'hola':\n",
    "    print(letter) \n",
    "```\n",
    "---\n",
    "\n",
    "5. \n",
    "```python\n",
    "count = 0\n",
    "for letter in 'Snow!':\n",
    "    print('Letter # ' + str(count) + ' is ' + str(letter))\n",
    "    count += 1\n",
    "    break\n",
    "print(count)\n",
    "```"
   ]
  },
  {
   "cell_type": "code",
   "execution_count": 0,
   "metadata": {
    "colab": {},
    "colab_type": "code",
    "id": "VFEy6h6YRuNm"
   },
   "outputs": [],
   "source": [
    "0\n",
    "1\n",
    "2\n",
    "3\n",
    "4\n",
    "4"
   ]
  },
  {
   "cell_type": "code",
   "execution_count": 0,
   "metadata": {
    "colab": {},
    "colab_type": "code",
    "id": "bNZ5V10dSzy8"
   },
   "outputs": [],
   "source": [
    "0\n",
    "1\n",
    "2\n",
    "3\n",
    "4"
   ]
  },
  {
   "cell_type": "code",
   "execution_count": null,
   "metadata": {},
   "outputs": [],
   "source": [
    "#for integer division use '//'"
   ]
  },
  {
   "cell_type": "code",
   "execution_count": null,
   "metadata": {},
   "outputs": [],
   "source": [
    "for variable in range(20):\n",
    " if variable % 4 == 0:\n",
    "     print(variable)\n",
    " if variable % 16 == 0:\n",
    "     print('Foo!')"
   ]
  },
  {
   "cell_type": "code",
   "execution_count": null,
   "metadata": {},
   "outputs": [],
   "source": [
    "0\n",
    "Foo!\n",
    "4\n",
    "8\n",
    "10\n",
    "12\n",
    "16\n",
    "Foo!"
   ]
  },
  {
   "cell_type": "code",
   "execution_count": null,
   "metadata": {},
   "outputs": [],
   "source": [
    "for letter in 'hola':\n",
    " print(letter) "
   ]
  },
  {
   "cell_type": "code",
   "execution_count": null,
   "metadata": {},
   "outputs": [],
   "source": [
    "h\n",
    "o\n",
    "l\n",
    "a\n"
   ]
  },
  {
   "cell_type": "code",
   "execution_count": null,
   "metadata": {},
   "outputs": [],
   "source": [
    "count = 0\n",
    "for letter in 'Snow!':\n",
    " print('Letter # ' + str(count) + ' is ' + str(letter))\n",
    " count += 1\n",
    " break\n",
    "print(count)"
   ]
  },
  {
   "cell_type": "code",
   "execution_count": null,
   "metadata": {},
   "outputs": [],
   "source": [
    "Letter # 0 is S\n",
    "1"
   ]
  },
  {
   "cell_type": "markdown",
   "metadata": {
    "colab_type": "text",
    "id": "PFmh-LB1S0Kg"
   },
   "source": [
    "#### Python dict\n",
    "\n",
    "\n",
    "Given the following code...\n",
    "\n",
    "```python\n",
    "animals = {\n",
    "            'a': 'aardvark',\n",
    "            'b': 'baboon',\n",
    "            'c': 'coati'\n",
    "          }\n",
    "\n",
    "animals['d'] = 'donkey'\n",
    "animals['b'] = 'donkey'\n",
    "\n",
    "```"
   ]
  },
  {
   "cell_type": "markdown",
   "metadata": {
    "colab_type": "text",
    "id": "LtGZCyt_TLcD"
   },
   "source": [
    "#### Guess the output with respect to the given dict..\n",
    "\n",
    "1. \n",
    "```\n",
    "animals\n",
    "```\n",
    "--- \n",
    "\n",
    "2. \n",
    "```\n",
    "divisor = 2\n",
    "for num in range(0, 10, 2):\n",
    "    print(num/divisor)\n",
    "```\n",
    "---\n",
    "\n",
    "3. \n",
    "```\n",
    "animals['donkey'] \n",
    "```\n",
    "---\n",
    "\n",
    "4. \n",
    "```\n",
    "len(animals)\n",
    "```\n",
    "---\n",
    "\n",
    "5. \n",
    "```\n",
    "animals['a'] = 'anteater'\n",
    "```\n",
    "---\n",
    "\n",
    "6. \n",
    "```\n",
    "len(animals['a'])\n",
    "```\n",
    "---\n",
    "\n",
    "7. \n",
    "```\n",
    "'baboon' in animals #means checking baboon in keys. to check in values, would be baboon in animals.values\n",
    "```\n",
    "---\n",
    "\n",
    "8. \n",
    "```\n",
    " 'donkey' in animals.values()\n",
    "```\n",
    "---\n",
    "\n",
    "9. \n",
    "```\n",
    "'b' in animals \n",
    "```\n",
    "---\n",
    "10. \n",
    "```\n",
    "animals.keys()\n",
    "```\n",
    "---\n",
    "11. \n",
    "```\n",
    "del animals['b']\n",
    "len(animals)\n",
    "animals\n",
    "```\n",
    "---\n",
    "12. \n",
    "```\n",
    "animals.values()\n",
    "```"
   ]
  },
  {
   "cell_type": "code",
   "execution_count": null,
   "metadata": {},
   "outputs": [],
   "source": [
    "{'a':'aardvark', 'b':'donkey','c':'coati', 'd': 'donkey'}"
   ]
  },
  {
   "cell_type": "code",
   "execution_count": null,
   "metadata": {},
   "outputs": [],
   "source": [
    "0,1,2,3,4"
   ]
  },
  {
   "cell_type": "code",
   "execution_count": null,
   "metadata": {},
   "outputs": [],
   "source": [
    "error"
   ]
  },
  {
   "cell_type": "code",
   "execution_count": null,
   "metadata": {},
   "outputs": [],
   "source": [
    "4"
   ]
  },
  {
   "cell_type": "code",
   "execution_count": null,
   "metadata": {},
   "outputs": [],
   "source": [
    "8"
   ]
  },
  {
   "cell_type": "code",
   "execution_count": null,
   "metadata": {},
   "outputs": [],
   "source": [
    "False"
   ]
  },
  {
   "cell_type": "code",
   "execution_count": null,
   "metadata": {},
   "outputs": [],
   "source": [
    "True"
   ]
  },
  {
   "cell_type": "code",
   "execution_count": null,
   "metadata": {},
   "outputs": [],
   "source": [
    "True"
   ]
  },
  {
   "cell_type": "code",
   "execution_count": null,
   "metadata": {},
   "outputs": [],
   "source": [
    "['a','b','c','d']"
   ]
  },
  {
   "cell_type": "code",
   "execution_count": null,
   "metadata": {},
   "outputs": [],
   "source": [
    "3\n",
    "{'a':'anteater','c':'coati','d':'donkey'}"
   ]
  },
  {
   "cell_type": "code",
   "execution_count": null,
   "metadata": {},
   "outputs": [],
   "source": [
    "['anteater','coati','donkey']"
   ]
  },
  {
   "cell_type": "code",
   "execution_count": 11,
   "metadata": {},
   "outputs": [
    {
     "ename": "NameError",
     "evalue": "name 'animals' is not defined",
     "output_type": "error",
     "traceback": [
      "\u001b[0;31m---------------------------------------------------------------------------\u001b[0m",
      "\u001b[0;31mNameError\u001b[0m                                 Traceback (most recent call last)",
      "\u001b[0;32m<ipython-input-11-9bccc21f8b20>\u001b[0m in \u001b[0;36m<module>\u001b[0;34m\u001b[0m\n\u001b[0;32m----> 1\u001b[0;31m \u001b[0manimals\u001b[0m\u001b[0;34m.\u001b[0m\u001b[0mvalues\u001b[0m\u001b[0;34m\u001b[0m\u001b[0;34m\u001b[0m\u001b[0m\n\u001b[0m",
      "\u001b[0;31mNameError\u001b[0m: name 'animals' is not defined"
     ]
    }
   ],
   "source": [
    "animals.values"
   ]
  },
  {
   "cell_type": "code",
   "execution_count": 8,
   "metadata": {},
   "outputs": [],
   "source": [
    "a = list([1,2,3])"
   ]
  },
  {
   "cell_type": "code",
   "execution_count": 9,
   "metadata": {},
   "outputs": [
    {
     "data": {
      "text/plain": [
       "1"
      ]
     },
     "execution_count": 9,
     "metadata": {},
     "output_type": "execute_result"
    }
   ],
   "source": [
    "a[0] #this is equal to the __getitem__ method"
   ]
  },
  {
   "cell_type": "code",
   "execution_count": 10,
   "metadata": {},
   "outputs": [
    {
     "data": {
      "text/plain": [
       "1"
      ]
     },
     "execution_count": 10,
     "metadata": {},
     "output_type": "execute_result"
    }
   ],
   "source": [
    "a.__getitem__(0) # "
   ]
  },
  {
   "cell_type": "code",
   "execution_count": 12,
   "metadata": {},
   "outputs": [
    {
     "ename": "SyntaxError",
     "evalue": "invalid syntax (<ipython-input-12-94139f709e29>, line 2)",
     "output_type": "error",
     "traceback": [
      "\u001b[0;36m  File \u001b[0;32m\"<ipython-input-12-94139f709e29>\"\u001b[0;36m, line \u001b[0;32m2\u001b[0m\n\u001b[0;31m    a.__delitem__() = del a\u001b[0m\n\u001b[0m                        ^\u001b[0m\n\u001b[0;31mSyntaxError\u001b[0m\u001b[0;31m:\u001b[0m invalid syntax\n"
     ]
    }
   ],
   "source": [
    "a.__len__() = len(a)\n",
    "a.__delitem__() = del a"
   ]
  },
  {
   "cell_type": "code",
   "execution_count": 0,
   "metadata": {
    "colab": {},
    "colab_type": "code",
    "id": "cjA1eUI1TO5s"
   },
   "outputs": [],
   "source": [
    "## Outputs..."
   ]
  },
  {
   "cell_type": "markdown",
   "metadata": {
    "colab_type": "text",
    "id": "Hup1luuoTLe5"
   },
   "source": [
    "#### Tuples...\n",
    "\n",
    "Assume we've made the following assignment:\n",
    "\n",
    "```python\n",
    "x = (1, 2, (3, 'John', 4), 'Hi')\n",
    "```\n"
   ]
  },
  {
   "cell_type": "markdown",
   "metadata": {
    "colab_type": "text",
    "id": "VFmjuei-TLlJ"
   },
   "source": [
    "\n",
    "Ouput ???\n",
    "\n",
    "- x[0]\n",
    "---\n",
    "- x[2]\n",
    "---\n",
    "\n",
    "- x[-1]\n",
    "---\n",
    "\n",
    "- x[2][2]\n",
    "---\n",
    "\n",
    "- x[2][-1]\n",
    "---\n",
    "\n",
    "- x[-1][-1]\n",
    "---\n",
    "\n",
    "- x[-1][2]\n",
    "---\n",
    "\n",
    "- x[0:1]\n",
    "---\n",
    "\n",
    "- x[0:-1]\n",
    "---\n",
    "\n",
    "- len(x)\n",
    "---\n",
    "\n",
    "- 2 in x\n",
    "---\n",
    "\n",
    "- 3 in x\n",
    "---\n",
    "\n",
    "- x[0] = 8\n",
    "---\n",
    "```"
   ]
  },
  {
   "cell_type": "code",
   "execution_count": null,
   "metadata": {},
   "outputs": [],
   "source": [
    "x[0] = 1"
   ]
  },
  {
   "cell_type": "code",
   "execution_count": null,
   "metadata": {},
   "outputs": [],
   "source": [
    "x[2] = (3,'John',4)"
   ]
  },
  {
   "cell_type": "code",
   "execution_count": null,
   "metadata": {},
   "outputs": [],
   "source": [
    "x[-1]= 'Hi'"
   ]
  },
  {
   "cell_type": "code",
   "execution_count": null,
   "metadata": {},
   "outputs": [],
   "source": [
    "x[2][2]= 4"
   ]
  },
  {
   "cell_type": "code",
   "execution_count": null,
   "metadata": {},
   "outputs": [],
   "source": [
    "x[2][-1]=4"
   ]
  },
  {
   "cell_type": "code",
   "execution_count": null,
   "metadata": {},
   "outputs": [],
   "source": [
    "x[-1][-1]='i'"
   ]
  },
  {
   "cell_type": "code",
   "execution_count": null,
   "metadata": {},
   "outputs": [],
   "source": [
    "x[-1][2]= error #slicing doesnt crash but indexing does. eg x[1:100] "
   ]
  },
  {
   "cell_type": "code",
   "execution_count": null,
   "metadata": {},
   "outputs": [],
   "source": [
    "x[0:1]=(1,)"
   ]
  },
  {
   "cell_type": "code",
   "execution_count": null,
   "metadata": {},
   "outputs": [],
   "source": [
    "x[0:-1]= (1,2,(3,'John',4))"
   ]
  },
  {
   "cell_type": "code",
   "execution_count": null,
   "metadata": {},
   "outputs": [],
   "source": [
    "error"
   ]
  },
  {
   "cell_type": "code",
   "execution_count": null,
   "metadata": {},
   "outputs": [],
   "source": [
    "2 in x = True"
   ]
  },
  {
   "cell_type": "code",
   "execution_count": null,
   "metadata": {},
   "outputs": [],
   "source": [
    "3 in x = False"
   ]
  },
  {
   "cell_type": "code",
   "execution_count": 59,
   "metadata": {},
   "outputs": [],
   "source": [
    "x = (1, 2, (3, 'John', 4), 'Hi')"
   ]
  },
  {
   "cell_type": "code",
   "execution_count": null,
   "metadata": {},
   "outputs": [],
   "source": []
  },
  {
   "cell_type": "code",
   "execution_count": null,
   "metadata": {},
   "outputs": [],
   "source": []
  },
  {
   "cell_type": "markdown",
   "metadata": {
    "colab_type": "text",
    "id": "j1mpBiJuTLno"
   },
   "source": []
  },
  {
   "cell_type": "code",
   "execution_count": 0,
   "metadata": {
    "colab": {},
    "colab_type": "code",
    "id": "ySdq8PHbVeLP"
   },
   "outputs": [],
   "source": []
  },
  {
   "cell_type": "code",
   "execution_count": 0,
   "metadata": {
    "colab": {},
    "colab_type": "code",
    "id": "RfD6KfanXumS"
   },
   "outputs": [],
   "source": []
  },
  {
   "cell_type": "code",
   "execution_count": 0,
   "metadata": {
    "colab": {},
    "colab_type": "code",
    "id": "sgSk5E6SXu09"
   },
   "outputs": [],
   "source": []
  },
  {
   "cell_type": "markdown",
   "metadata": {
    "colab_type": "text",
    "id": "Y7t_dKKKRD9T"
   },
   "source": [
    "## Code Snip"
   ]
  },
  {
   "cell_type": "markdown",
   "metadata": {
    "colab_type": "text",
    "id": "JxHxaQV3Qt7A"
   },
   "source": [
    "### Code Snippets 01\n",
    "\n",
    "- Write a piece of Python code that evaluates varA and varB, and then prints out one of the following messages:\n",
    "\n",
    "1. \"string involved\" if either varA or varB are strings\n",
    "2. \"bigger\" if varA is larger than varB\n",
    "3. \"equal\" if varA is equal to varB\n",
    "4.\"smaller\" if varA is smaller than varB"
   ]
  },
  {
   "cell_type": "code",
   "execution_count": 41,
   "metadata": {
    "colab": {},
    "colab_type": "code",
    "id": "IR9D3prwQtcn"
   },
   "outputs": [
    {
     "name": "stdout",
     "output_type": "stream",
     "text": [
      "Enter something:10\n",
      "Enter something:5\n",
      "bigger\n"
     ]
    }
   ],
   "source": [
    "varA = input('Enter something:')\n",
    "varB = input('Enter something:')\n",
    "if varA.isalpha() or varB.isalpha() == True:\n",
    "    print('string involved')\n",
    "    #else \n",
    "elif int(varA) > int(varB):\n",
    "    print('bigger')\n",
    "    \n",
    "elif int(varA) == int(varB):\n",
    "    print('equal')\n",
    "    \n",
    "elif int(varA) < int(varB):\n",
    "    print('smaller')\n",
    "    "
   ]
  },
  {
   "cell_type": "code",
   "execution_count": 39,
   "metadata": {},
   "outputs": [
    {
     "data": {
      "text/plain": [
       "False"
      ]
     },
     "execution_count": 39,
     "metadata": {},
     "output_type": "execute_result"
    }
   ],
   "source": [
    "a = '10'\n",
    "a.isalpha()"
   ]
  },
  {
   "cell_type": "markdown",
   "metadata": {
    "colab_type": "text",
    "id": "006CV236LS7e"
   },
   "source": [
    "###  Code Snippets 02\n",
    "- Assume `s` is a string of lower case characters.\n",
    "- Write a program that counts up the number of vowels contained in the string s. \n",
    "- Valid vowels are: 'a', 'e', 'i', 'o', and 'u'. \n",
    "- For example, if s = 'azcbobobegghakl', your program should print:\n",
    "- Number of vowels: 5\n"
   ]
  },
  {
   "cell_type": "code",
   "execution_count": 55,
   "metadata": {
    "colab": {},
    "colab_type": "code",
    "id": "A1f0nR4AQ_0D"
   },
   "outputs": [
    {
     "name": "stdout",
     "output_type": "stream",
     "text": [
      "ssmwiomd\n",
      "Number of vowels : 2\n"
     ]
    }
   ],
   "source": [
    "vowels = ['a','e','i','o','u']\n",
    "number = 0\n",
    "s = input()\n",
    "for letter in s:\n",
    "    if letter in vowels:\n",
    "        number += 1\n",
    "print('Number of vowels : ' + str(number))"
   ]
  },
  {
   "cell_type": "code",
   "execution_count": null,
   "metadata": {},
   "outputs": [],
   "source": [
    "s.count('a') +s.count('i')+..."
   ]
  },
  {
   "cell_type": "code",
   "execution_count": 16,
   "metadata": {},
   "outputs": [
    {
     "data": {
      "text/plain": [
       "4"
      ]
     },
     "execution_count": 16,
     "metadata": {},
     "output_type": "execute_result"
    }
   ],
   "source": [
    "s= \"dederrwfaa\"\n",
    "list(map(s.count, [\"a\",\"e\",\"i\",\"o\",\"u\"]))\n",
    "sum(map(s.count, [\"a\",\"e\",\"i\",\"o\",\"u\"]))"
   ]
  },
  {
   "cell_type": "code",
   "execution_count": null,
   "metadata": {},
   "outputs": [],
   "source": [
    "def mymap(func, collection):\n",
    "    return [func(item) for item in collection] # is equal to map function"
   ]
  }
 ],
 "metadata": {
  "colab": {
   "collapsed_sections": [],
   "name": "Module 0 - Python foundation workshop.ipynb",
   "provenance": [],
   "version": "0.3.2"
  },
  "kernelspec": {
   "display_name": "Python 3",
   "language": "python",
   "name": "python3"
  },
  "language_info": {
   "codemirror_mode": {
    "name": "ipython",
    "version": 3
   },
   "file_extension": ".py",
   "mimetype": "text/x-python",
   "name": "python",
   "nbconvert_exporter": "python",
   "pygments_lexer": "ipython3",
   "version": "3.7.3"
  }
 },
 "nbformat": 4,
 "nbformat_minor": 1
}
